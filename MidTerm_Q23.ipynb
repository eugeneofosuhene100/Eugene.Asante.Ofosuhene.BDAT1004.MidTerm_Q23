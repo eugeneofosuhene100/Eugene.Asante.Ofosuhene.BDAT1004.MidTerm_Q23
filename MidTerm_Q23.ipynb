{
 "cells": [
  {
   "cell_type": "code",
   "execution_count": 11,
   "id": "939de9f2-b8cd-4293-b8a9-8877d56f948f",
   "metadata": {},
   "outputs": [],
   "source": [
    "def tough(indentation, number):\n",
    "    if(number > 0):\n",
    "        tough(indentation, number//2);\n",
    "        print(\" \" * indentation + \"*\" * number);\n",
    "        tough(indentation + 1, number//2);"
   ]
  },
  {
   "cell_type": "code",
   "execution_count": 12,
   "id": "a07d7220-4408-4ef4-bee4-66b7edae9d94",
   "metadata": {},
   "outputs": [],
   "source": [
    "tough(0, 0)"
   ]
  },
  {
   "cell_type": "code",
   "execution_count": 13,
   "id": "e0405c95-8391-4f19-aaf0-be9cd4c2fb1a",
   "metadata": {},
   "outputs": [
    {
     "name": "stdout",
     "output_type": "stream",
     "text": [
      "*\n"
     ]
    }
   ],
   "source": [
    "tough(0, 1)"
   ]
  },
  {
   "cell_type": "code",
   "execution_count": 14,
   "id": "b7a76d40-4d46-4479-b37f-b09d6cdd32a0",
   "metadata": {},
   "outputs": [
    {
     "name": "stdout",
     "output_type": "stream",
     "text": [
      "*\n",
      "**\n",
      " *\n"
     ]
    }
   ],
   "source": [
    "tough(0, 2)"
   ]
  },
  {
   "cell_type": "code",
   "execution_count": 15,
   "id": "b91622d4-3b34-485c-88e6-43481215dc15",
   "metadata": {},
   "outputs": [
    {
     "name": "stdout",
     "output_type": "stream",
     "text": [
      "*\n",
      "**\n",
      " *\n",
      "****\n",
      " *\n",
      " **\n",
      "  *\n"
     ]
    }
   ],
   "source": [
    "tough(0, 4)"
   ]
  },
  {
   "cell_type": "code",
   "execution_count": null,
   "id": "26b4a448-e14a-4761-9cc8-2481aa8909ce",
   "metadata": {},
   "outputs": [],
   "source": []
  }
 ],
 "metadata": {
  "kernelspec": {
   "display_name": "Python 3 (ipykernel)",
   "language": "python",
   "name": "python3"
  },
  "language_info": {
   "codemirror_mode": {
    "name": "ipython",
    "version": 3
   },
   "file_extension": ".py",
   "mimetype": "text/x-python",
   "name": "python",
   "nbconvert_exporter": "python",
   "pygments_lexer": "ipython3",
   "version": "3.11.7"
  }
 },
 "nbformat": 4,
 "nbformat_minor": 5
}
